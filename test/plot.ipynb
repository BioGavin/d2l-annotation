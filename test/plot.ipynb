{
 "cells": [
  {
   "cell_type": "code",
   "execution_count": 11,
   "metadata": {},
   "outputs": [
    {
     "name": "stderr",
     "output_type": "stream",
     "text": [
      "/var/folders/3c/v18vsqt50jzgnmgzv858z_rm0000gn/T/ipykernel_11227/875597724.py:6: DeprecationWarning: `set_matplotlib_formats` is deprecated since IPython 7.23, directly use `matplotlib_inline.backend_inline.set_matplotlib_formats()`\n",
      "  display.set_matplotlib_formats('svg')\n"
     ]
    },
    {
     "ename": "ImportError",
     "evalue": "\n\nIMPORTANT: PLEASE READ THIS FOR ADVICE ON HOW TO SOLVE THIS ISSUE!\n\nImporting the numpy C-extensions failed. This error can happen for\nmany reasons, often due to issues with your setup or how NumPy was\ninstalled.\n\nWe have compiled some common reasons and troubleshooting tips at:\n\n    https://numpy.org/devdocs/user/troubleshooting-importerror.html\n\nPlease note and check the following:\n\n  * The Python version is: Python3.9 from \"/Users/zhouzhenyi/miniconda3/envs/torch/bin/python\"\n  * The NumPy version is: \"1.21.1\"\n\nand make sure that they are the versions you expect.\nPlease carefully study the documentation linked above for further help.\n\nOriginal error was: dlopen(/Users/zhouzhenyi/miniconda3/envs/torch/lib/python3.9/site-packages/numpy/core/_multiarray_umath.cpython-39-darwin.so, 0x0002): Library not loaded: @rpath/libcblas.3.dylib\n  Referenced from: /Users/zhouzhenyi/miniconda3/envs/torch/lib/python3.9/site-packages/numpy/core/_multiarray_umath.cpython-39-darwin.so\n  Reason: tried: '/Users/zhouzhenyi/miniconda3/envs/torch/lib/libcblas.3.dylib' (no such file), '/Users/zhouzhenyi/miniconda3/envs/torch/lib/libcblas.3.dylib' (no such file), '/Users/zhouzhenyi/miniconda3/envs/torch/lib/python3.9/site-packages/numpy/core/../../../../libcblas.3.dylib' (no such file), '/Users/zhouzhenyi/miniconda3/envs/torch/lib/libcblas.3.dylib' (no such file), '/Users/zhouzhenyi/miniconda3/envs/torch/lib/libcblas.3.dylib' (no such file), '/Users/zhouzhenyi/miniconda3/envs/torch/lib/python3.9/site-packages/numpy/core/../../../../libcblas.3.dylib' (no such file), '/Users/zhouzhenyi/miniconda3/envs/torch/lib/libcblas.3.dylib' (no such file), '/Users/zhouzhenyi/miniconda3/envs/torch/bin/../lib/libcblas.3.dylib' (no such file), '/Users/zhouzhenyi/miniconda3/envs/torch/lib/libcblas.3.dylib' (no such file), '/Users/zhouzhenyi/miniconda3/envs/torch/bin/../lib/libcblas.3.dylib' (no such file), '/usr/local/lib/libcblas.3.dylib' (no such file), '/usr/lib/libcblas.3.dylib' (no such file)\n",
     "output_type": "error",
     "traceback": [
      "\u001b[0;31m---------------------------------------------------------------------------\u001b[0m",
      "\u001b[0;31mImportError\u001b[0m                               Traceback (most recent call last)",
      "File \u001b[0;32m~/miniconda3/envs/torch/lib/python3.9/site-packages/numpy/core/__init__.py:22\u001b[0m, in \u001b[0;36m<module>\u001b[0;34m\u001b[0m\n\u001b[1;32m     <a href='file:///~/miniconda3/envs/torch/lib/python3.9/site-packages/numpy/core/__init__.py?line=20'>21</a>\u001b[0m \u001b[39mtry\u001b[39;00m:\n\u001b[0;32m---> <a href='file:///~/miniconda3/envs/torch/lib/python3.9/site-packages/numpy/core/__init__.py?line=21'>22</a>\u001b[0m     \u001b[39mfrom\u001b[39;00m \u001b[39m.\u001b[39;00m \u001b[39mimport\u001b[39;00m multiarray\n\u001b[1;32m     <a href='file:///~/miniconda3/envs/torch/lib/python3.9/site-packages/numpy/core/__init__.py?line=22'>23</a>\u001b[0m \u001b[39mexcept\u001b[39;00m \u001b[39mImportError\u001b[39;00m \u001b[39mas\u001b[39;00m exc:\n",
      "File \u001b[0;32m~/miniconda3/envs/torch/lib/python3.9/site-packages/numpy/core/multiarray.py:12\u001b[0m, in \u001b[0;36m<module>\u001b[0;34m\u001b[0m\n\u001b[1;32m     <a href='file:///~/miniconda3/envs/torch/lib/python3.9/site-packages/numpy/core/multiarray.py?line=9'>10</a>\u001b[0m \u001b[39mimport\u001b[39;00m \u001b[39mwarnings\u001b[39;00m\n\u001b[0;32m---> <a href='file:///~/miniconda3/envs/torch/lib/python3.9/site-packages/numpy/core/multiarray.py?line=11'>12</a>\u001b[0m \u001b[39mfrom\u001b[39;00m \u001b[39m.\u001b[39;00m \u001b[39mimport\u001b[39;00m overrides\n\u001b[1;32m     <a href='file:///~/miniconda3/envs/torch/lib/python3.9/site-packages/numpy/core/multiarray.py?line=12'>13</a>\u001b[0m \u001b[39mfrom\u001b[39;00m \u001b[39m.\u001b[39;00m \u001b[39mimport\u001b[39;00m _multiarray_umath\n",
      "File \u001b[0;32m~/miniconda3/envs/torch/lib/python3.9/site-packages/numpy/core/overrides.py:7\u001b[0m, in \u001b[0;36m<module>\u001b[0;34m\u001b[0m\n\u001b[1;32m      <a href='file:///~/miniconda3/envs/torch/lib/python3.9/site-packages/numpy/core/overrides.py?line=4'>5</a>\u001b[0m \u001b[39mimport\u001b[39;00m \u001b[39mtextwrap\u001b[39;00m\n\u001b[0;32m----> <a href='file:///~/miniconda3/envs/torch/lib/python3.9/site-packages/numpy/core/overrides.py?line=6'>7</a>\u001b[0m \u001b[39mfrom\u001b[39;00m \u001b[39mnumpy\u001b[39;00m\u001b[39m.\u001b[39;00m\u001b[39mcore\u001b[39;00m\u001b[39m.\u001b[39;00m\u001b[39m_multiarray_umath\u001b[39;00m \u001b[39mimport\u001b[39;00m (\n\u001b[1;32m      <a href='file:///~/miniconda3/envs/torch/lib/python3.9/site-packages/numpy/core/overrides.py?line=7'>8</a>\u001b[0m     add_docstring, implement_array_function, _get_implementing_args)\n\u001b[1;32m      <a href='file:///~/miniconda3/envs/torch/lib/python3.9/site-packages/numpy/core/overrides.py?line=8'>9</a>\u001b[0m \u001b[39mfrom\u001b[39;00m \u001b[39mnumpy\u001b[39;00m\u001b[39m.\u001b[39;00m\u001b[39mcompat\u001b[39;00m\u001b[39m.\u001b[39;00m\u001b[39m_inspect\u001b[39;00m \u001b[39mimport\u001b[39;00m getargspec\n",
      "\u001b[0;31mImportError\u001b[0m: dlopen(/Users/zhouzhenyi/miniconda3/envs/torch/lib/python3.9/site-packages/numpy/core/_multiarray_umath.cpython-39-darwin.so, 0x0002): Library not loaded: @rpath/libcblas.3.dylib\n  Referenced from: /Users/zhouzhenyi/miniconda3/envs/torch/lib/python3.9/site-packages/numpy/core/_multiarray_umath.cpython-39-darwin.so\n  Reason: tried: '/Users/zhouzhenyi/miniconda3/envs/torch/lib/libcblas.3.dylib' (no such file), '/Users/zhouzhenyi/miniconda3/envs/torch/lib/libcblas.3.dylib' (no such file), '/Users/zhouzhenyi/miniconda3/envs/torch/lib/python3.9/site-packages/numpy/core/../../../../libcblas.3.dylib' (no such file), '/Users/zhouzhenyi/miniconda3/envs/torch/lib/libcblas.3.dylib' (no such file), '/Users/zhouzhenyi/miniconda3/envs/torch/lib/libcblas.3.dylib' (no such file), '/Users/zhouzhenyi/miniconda3/envs/torch/lib/python3.9/site-packages/numpy/core/../../../../libcblas.3.dylib' (no such file), '/Users/zhouzhenyi/miniconda3/envs/torch/lib/libcblas.3.dylib' (no such file), '/Users/zhouzhenyi/miniconda3/envs/torch/bin/../lib/libcblas.3.dylib' (no such file), '/Users/zhouzhenyi/miniconda3/envs/torch/lib/libcblas.3.dylib' (no such file), '/Users/zhouzhenyi/miniconda3/envs/torch/bin/../lib/libcblas.3.dylib' (no such file), '/usr/local/lib/libcblas.3.dylib' (no such file), '/usr/lib/libcblas.3.dylib' (no such file)",
      "\nDuring handling of the above exception, another exception occurred:\n",
      "\u001b[0;31mImportError\u001b[0m                               Traceback (most recent call last)",
      "\u001b[1;32m/Users/zhouzhenyi/Documents/LML/d2l-annotation/test/plot.ipynb Cell 1'\u001b[0m in \u001b[0;36m<module>\u001b[0;34m\u001b[0m\n\u001b[1;32m      <a href='vscode-notebook-cell:/Users/zhouzhenyi/Documents/LML/d2l-annotation/test/plot.ipynb#ch0000000?line=2'>3</a>\u001b[0m     \u001b[39m\"\"\"使用svg格式在Jupyter中显示绘图\u001b[39;00m\n\u001b[1;32m      <a href='vscode-notebook-cell:/Users/zhouzhenyi/Documents/LML/d2l-annotation/test/plot.ipynb#ch0000000?line=3'>4</a>\u001b[0m \n\u001b[1;32m      <a href='vscode-notebook-cell:/Users/zhouzhenyi/Documents/LML/d2l-annotation/test/plot.ipynb#ch0000000?line=4'>5</a>\u001b[0m \u001b[39m    Defined in :numref:`sec_calculus`\"\"\"\u001b[39;00m\n\u001b[1;32m      <a href='vscode-notebook-cell:/Users/zhouzhenyi/Documents/LML/d2l-annotation/test/plot.ipynb#ch0000000?line=5'>6</a>\u001b[0m     display\u001b[39m.\u001b[39mset_matplotlib_formats(\u001b[39m'\u001b[39m\u001b[39msvg\u001b[39m\u001b[39m'\u001b[39m)\n\u001b[0;32m----> <a href='vscode-notebook-cell:/Users/zhouzhenyi/Documents/LML/d2l-annotation/test/plot.ipynb#ch0000000?line=6'>7</a>\u001b[0m use_svg_display()\n",
      "\u001b[1;32m/Users/zhouzhenyi/Documents/LML/d2l-annotation/test/plot.ipynb Cell 1'\u001b[0m in \u001b[0;36muse_svg_display\u001b[0;34m()\u001b[0m\n\u001b[1;32m      <a href='vscode-notebook-cell:/Users/zhouzhenyi/Documents/LML/d2l-annotation/test/plot.ipynb#ch0000000?line=1'>2</a>\u001b[0m \u001b[39mdef\u001b[39;00m \u001b[39muse_svg_display\u001b[39m():\n\u001b[1;32m      <a href='vscode-notebook-cell:/Users/zhouzhenyi/Documents/LML/d2l-annotation/test/plot.ipynb#ch0000000?line=2'>3</a>\u001b[0m     \u001b[39m\"\"\"使用svg格式在Jupyter中显示绘图\u001b[39;00m\n\u001b[1;32m      <a href='vscode-notebook-cell:/Users/zhouzhenyi/Documents/LML/d2l-annotation/test/plot.ipynb#ch0000000?line=3'>4</a>\u001b[0m \n\u001b[1;32m      <a href='vscode-notebook-cell:/Users/zhouzhenyi/Documents/LML/d2l-annotation/test/plot.ipynb#ch0000000?line=4'>5</a>\u001b[0m \u001b[39m    Defined in :numref:`sec_calculus`\"\"\"\u001b[39;00m\n\u001b[0;32m----> <a href='vscode-notebook-cell:/Users/zhouzhenyi/Documents/LML/d2l-annotation/test/plot.ipynb#ch0000000?line=5'>6</a>\u001b[0m     display\u001b[39m.\u001b[39;49mset_matplotlib_formats(\u001b[39m'\u001b[39;49m\u001b[39msvg\u001b[39;49m\u001b[39m'\u001b[39;49m)\n",
      "File \u001b[0;32m~/miniconda3/envs/torch/lib/python3.9/site-packages/IPython/core/display.py:1228\u001b[0m, in \u001b[0;36mset_matplotlib_formats\u001b[0;34m(*formats, **kwargs)\u001b[0m\n\u001b[1;32m   <a href='file:///~/miniconda3/envs/torch/lib/python3.9/site-packages/IPython/core/display.py?line=1197'>1198</a>\u001b[0m \u001b[39m\"\"\"\u001b[39;00m\n\u001b[1;32m   <a href='file:///~/miniconda3/envs/torch/lib/python3.9/site-packages/IPython/core/display.py?line=1198'>1199</a>\u001b[0m \u001b[39m.. deprecated:: 7.23\u001b[39;00m\n\u001b[1;32m   <a href='file:///~/miniconda3/envs/torch/lib/python3.9/site-packages/IPython/core/display.py?line=1199'>1200</a>\u001b[0m \n\u001b[0;32m   (...)\u001b[0m\n\u001b[1;32m   <a href='file:///~/miniconda3/envs/torch/lib/python3.9/site-packages/IPython/core/display.py?line=1218'>1219</a>\u001b[0m \u001b[39m    Keyword args will be relayed to ``figure.canvas.print_figure``.\u001b[39;00m\n\u001b[1;32m   <a href='file:///~/miniconda3/envs/torch/lib/python3.9/site-packages/IPython/core/display.py?line=1219'>1220</a>\u001b[0m \u001b[39m\"\"\"\u001b[39;00m\n\u001b[1;32m   <a href='file:///~/miniconda3/envs/torch/lib/python3.9/site-packages/IPython/core/display.py?line=1220'>1221</a>\u001b[0m warnings\u001b[39m.\u001b[39mwarn(\n\u001b[1;32m   <a href='file:///~/miniconda3/envs/torch/lib/python3.9/site-packages/IPython/core/display.py?line=1221'>1222</a>\u001b[0m     \u001b[39m\"\u001b[39m\u001b[39m`set_matplotlib_formats` is deprecated since IPython 7.23, directly \u001b[39m\u001b[39m\"\u001b[39m\n\u001b[1;32m   <a href='file:///~/miniconda3/envs/torch/lib/python3.9/site-packages/IPython/core/display.py?line=1222'>1223</a>\u001b[0m     \u001b[39m\"\u001b[39m\u001b[39muse `matplotlib_inline.backend_inline.set_matplotlib_formats()`\u001b[39m\u001b[39m\"\u001b[39m,\n\u001b[1;32m   <a href='file:///~/miniconda3/envs/torch/lib/python3.9/site-packages/IPython/core/display.py?line=1223'>1224</a>\u001b[0m     \u001b[39mDeprecationWarning\u001b[39;00m,\n\u001b[1;32m   <a href='file:///~/miniconda3/envs/torch/lib/python3.9/site-packages/IPython/core/display.py?line=1224'>1225</a>\u001b[0m     stacklevel\u001b[39m=\u001b[39m\u001b[39m2\u001b[39m,\n\u001b[1;32m   <a href='file:///~/miniconda3/envs/torch/lib/python3.9/site-packages/IPython/core/display.py?line=1225'>1226</a>\u001b[0m )\n\u001b[0;32m-> <a href='file:///~/miniconda3/envs/torch/lib/python3.9/site-packages/IPython/core/display.py?line=1227'>1228</a>\u001b[0m \u001b[39mfrom\u001b[39;00m \u001b[39mmatplotlib_inline\u001b[39;00m\u001b[39m.\u001b[39;00m\u001b[39mbackend_inline\u001b[39;00m \u001b[39mimport\u001b[39;00m (\n\u001b[1;32m   <a href='file:///~/miniconda3/envs/torch/lib/python3.9/site-packages/IPython/core/display.py?line=1228'>1229</a>\u001b[0m     set_matplotlib_formats \u001b[39mas\u001b[39;00m set_matplotlib_formats_orig,\n\u001b[1;32m   <a href='file:///~/miniconda3/envs/torch/lib/python3.9/site-packages/IPython/core/display.py?line=1229'>1230</a>\u001b[0m )\n\u001b[1;32m   <a href='file:///~/miniconda3/envs/torch/lib/python3.9/site-packages/IPython/core/display.py?line=1231'>1232</a>\u001b[0m set_matplotlib_formats_orig(\u001b[39m*\u001b[39mformats, \u001b[39m*\u001b[39m\u001b[39m*\u001b[39mkwargs)\n",
      "File \u001b[0;32m~/miniconda3/envs/torch/lib/python3.9/site-packages/matplotlib_inline/backend_inline.py:6\u001b[0m, in \u001b[0;36m<module>\u001b[0;34m\u001b[0m\n\u001b[1;32m      <a href='file:///~/miniconda3/envs/torch/lib/python3.9/site-packages/matplotlib_inline/backend_inline.py?line=0'>1</a>\u001b[0m \u001b[39m\"\"\"A matplotlib backend for publishing figures via display_data\"\"\"\u001b[39;00m\n\u001b[1;32m      <a href='file:///~/miniconda3/envs/torch/lib/python3.9/site-packages/matplotlib_inline/backend_inline.py?line=2'>3</a>\u001b[0m \u001b[39m# Copyright (c) IPython Development Team.\u001b[39;00m\n\u001b[1;32m      <a href='file:///~/miniconda3/envs/torch/lib/python3.9/site-packages/matplotlib_inline/backend_inline.py?line=3'>4</a>\u001b[0m \u001b[39m# Distributed under the terms of the BSD 3-Clause License.\u001b[39;00m\n\u001b[0;32m----> <a href='file:///~/miniconda3/envs/torch/lib/python3.9/site-packages/matplotlib_inline/backend_inline.py?line=5'>6</a>\u001b[0m \u001b[39mimport\u001b[39;00m \u001b[39mmatplotlib\u001b[39;00m\n\u001b[1;32m      <a href='file:///~/miniconda3/envs/torch/lib/python3.9/site-packages/matplotlib_inline/backend_inline.py?line=6'>7</a>\u001b[0m \u001b[39mfrom\u001b[39;00m \u001b[39mmatplotlib\u001b[39;00m\u001b[39m.\u001b[39;00m\u001b[39mbackends\u001b[39;00m\u001b[39m.\u001b[39;00m\u001b[39mbackend_agg\u001b[39;00m \u001b[39mimport\u001b[39;00m (  \u001b[39m# noqa\u001b[39;00m\n\u001b[1;32m      <a href='file:///~/miniconda3/envs/torch/lib/python3.9/site-packages/matplotlib_inline/backend_inline.py?line=7'>8</a>\u001b[0m     new_figure_manager,\n\u001b[1;32m      <a href='file:///~/miniconda3/envs/torch/lib/python3.9/site-packages/matplotlib_inline/backend_inline.py?line=8'>9</a>\u001b[0m     FigureCanvasAgg,\n\u001b[1;32m     <a href='file:///~/miniconda3/envs/torch/lib/python3.9/site-packages/matplotlib_inline/backend_inline.py?line=9'>10</a>\u001b[0m     new_figure_manager_given_figure,\n\u001b[1;32m     <a href='file:///~/miniconda3/envs/torch/lib/python3.9/site-packages/matplotlib_inline/backend_inline.py?line=10'>11</a>\u001b[0m )\n\u001b[1;32m     <a href='file:///~/miniconda3/envs/torch/lib/python3.9/site-packages/matplotlib_inline/backend_inline.py?line=11'>12</a>\u001b[0m \u001b[39mfrom\u001b[39;00m \u001b[39mmatplotlib\u001b[39;00m \u001b[39mimport\u001b[39;00m colors\n",
      "File \u001b[0;32m~/miniconda3/envs/torch/lib/python3.9/site-packages/matplotlib/__init__.py:104\u001b[0m, in \u001b[0;36m<module>\u001b[0;34m\u001b[0m\n\u001b[1;32m    <a href='file:///~/miniconda3/envs/torch/lib/python3.9/site-packages/matplotlib/__init__.py?line=100'>101</a>\u001b[0m \u001b[39mimport\u001b[39;00m \u001b[39mtempfile\u001b[39;00m\n\u001b[1;32m    <a href='file:///~/miniconda3/envs/torch/lib/python3.9/site-packages/matplotlib/__init__.py?line=101'>102</a>\u001b[0m \u001b[39mimport\u001b[39;00m \u001b[39mwarnings\u001b[39;00m\n\u001b[0;32m--> <a href='file:///~/miniconda3/envs/torch/lib/python3.9/site-packages/matplotlib/__init__.py?line=103'>104</a>\u001b[0m \u001b[39mimport\u001b[39;00m \u001b[39mnumpy\u001b[39;00m\n\u001b[1;32m    <a href='file:///~/miniconda3/envs/torch/lib/python3.9/site-packages/matplotlib/__init__.py?line=104'>105</a>\u001b[0m \u001b[39mfrom\u001b[39;00m \u001b[39mpackaging\u001b[39;00m\u001b[39m.\u001b[39;00m\u001b[39mversion\u001b[39;00m \u001b[39mimport\u001b[39;00m parse \u001b[39mas\u001b[39;00m parse_version\n\u001b[1;32m    <a href='file:///~/miniconda3/envs/torch/lib/python3.9/site-packages/matplotlib/__init__.py?line=106'>107</a>\u001b[0m \u001b[39m# cbook must import matplotlib only within function\u001b[39;00m\n\u001b[1;32m    <a href='file:///~/miniconda3/envs/torch/lib/python3.9/site-packages/matplotlib/__init__.py?line=107'>108</a>\u001b[0m \u001b[39m# definitions, so it is safe to import from it here.\u001b[39;00m\n",
      "File \u001b[0;32m~/miniconda3/envs/torch/lib/python3.9/site-packages/numpy/__init__.py:150\u001b[0m, in \u001b[0;36m<module>\u001b[0;34m\u001b[0m\n\u001b[1;32m    <a href='file:///~/miniconda3/envs/torch/lib/python3.9/site-packages/numpy/__init__.py?line=146'>147</a>\u001b[0m \u001b[39m# Allow distributors to run custom init code\u001b[39;00m\n\u001b[1;32m    <a href='file:///~/miniconda3/envs/torch/lib/python3.9/site-packages/numpy/__init__.py?line=147'>148</a>\u001b[0m \u001b[39mfrom\u001b[39;00m \u001b[39m.\u001b[39;00m \u001b[39mimport\u001b[39;00m _distributor_init\n\u001b[0;32m--> <a href='file:///~/miniconda3/envs/torch/lib/python3.9/site-packages/numpy/__init__.py?line=149'>150</a>\u001b[0m \u001b[39mfrom\u001b[39;00m \u001b[39m.\u001b[39;00m \u001b[39mimport\u001b[39;00m core\n\u001b[1;32m    <a href='file:///~/miniconda3/envs/torch/lib/python3.9/site-packages/numpy/__init__.py?line=150'>151</a>\u001b[0m \u001b[39mfrom\u001b[39;00m \u001b[39m.\u001b[39;00m\u001b[39mcore\u001b[39;00m \u001b[39mimport\u001b[39;00m \u001b[39m*\u001b[39m\n\u001b[1;32m    <a href='file:///~/miniconda3/envs/torch/lib/python3.9/site-packages/numpy/__init__.py?line=151'>152</a>\u001b[0m \u001b[39mfrom\u001b[39;00m \u001b[39m.\u001b[39;00m \u001b[39mimport\u001b[39;00m compat\n",
      "File \u001b[0;32m~/miniconda3/envs/torch/lib/python3.9/site-packages/numpy/core/__init__.py:48\u001b[0m, in \u001b[0;36m<module>\u001b[0;34m\u001b[0m\n\u001b[1;32m     <a href='file:///~/miniconda3/envs/torch/lib/python3.9/site-packages/numpy/core/__init__.py?line=23'>24</a>\u001b[0m     \u001b[39mimport\u001b[39;00m \u001b[39msys\u001b[39;00m\n\u001b[1;32m     <a href='file:///~/miniconda3/envs/torch/lib/python3.9/site-packages/numpy/core/__init__.py?line=24'>25</a>\u001b[0m     msg \u001b[39m=\u001b[39m \u001b[39m\"\"\"\u001b[39m\n\u001b[1;32m     <a href='file:///~/miniconda3/envs/torch/lib/python3.9/site-packages/numpy/core/__init__.py?line=25'>26</a>\u001b[0m \n\u001b[1;32m     <a href='file:///~/miniconda3/envs/torch/lib/python3.9/site-packages/numpy/core/__init__.py?line=26'>27</a>\u001b[0m \u001b[39mIMPORTANT: PLEASE READ THIS FOR ADVICE ON HOW TO SOLVE THIS ISSUE!\u001b[39m\n\u001b[0;32m   (...)\u001b[0m\n\u001b[1;32m     <a href='file:///~/miniconda3/envs/torch/lib/python3.9/site-packages/numpy/core/__init__.py?line=45'>46</a>\u001b[0m \u001b[39m\"\"\"\u001b[39m \u001b[39m%\u001b[39m (sys\u001b[39m.\u001b[39mversion_info[\u001b[39m0\u001b[39m], sys\u001b[39m.\u001b[39mversion_info[\u001b[39m1\u001b[39m], sys\u001b[39m.\u001b[39mexecutable,\n\u001b[1;32m     <a href='file:///~/miniconda3/envs/torch/lib/python3.9/site-packages/numpy/core/__init__.py?line=46'>47</a>\u001b[0m         __version__, exc)\n\u001b[0;32m---> <a href='file:///~/miniconda3/envs/torch/lib/python3.9/site-packages/numpy/core/__init__.py?line=47'>48</a>\u001b[0m     \u001b[39mraise\u001b[39;00m \u001b[39mImportError\u001b[39;00m(msg)\n\u001b[1;32m     <a href='file:///~/miniconda3/envs/torch/lib/python3.9/site-packages/numpy/core/__init__.py?line=48'>49</a>\u001b[0m \u001b[39mfinally\u001b[39;00m:\n\u001b[1;32m     <a href='file:///~/miniconda3/envs/torch/lib/python3.9/site-packages/numpy/core/__init__.py?line=49'>50</a>\u001b[0m     \u001b[39mfor\u001b[39;00m envkey \u001b[39min\u001b[39;00m env_added:\n",
      "\u001b[0;31mImportError\u001b[0m: \n\nIMPORTANT: PLEASE READ THIS FOR ADVICE ON HOW TO SOLVE THIS ISSUE!\n\nImporting the numpy C-extensions failed. This error can happen for\nmany reasons, often due to issues with your setup or how NumPy was\ninstalled.\n\nWe have compiled some common reasons and troubleshooting tips at:\n\n    https://numpy.org/devdocs/user/troubleshooting-importerror.html\n\nPlease note and check the following:\n\n  * The Python version is: Python3.9 from \"/Users/zhouzhenyi/miniconda3/envs/torch/bin/python\"\n  * The NumPy version is: \"1.21.1\"\n\nand make sure that they are the versions you expect.\nPlease carefully study the documentation linked above for further help.\n\nOriginal error was: dlopen(/Users/zhouzhenyi/miniconda3/envs/torch/lib/python3.9/site-packages/numpy/core/_multiarray_umath.cpython-39-darwin.so, 0x0002): Library not loaded: @rpath/libcblas.3.dylib\n  Referenced from: /Users/zhouzhenyi/miniconda3/envs/torch/lib/python3.9/site-packages/numpy/core/_multiarray_umath.cpython-39-darwin.so\n  Reason: tried: '/Users/zhouzhenyi/miniconda3/envs/torch/lib/libcblas.3.dylib' (no such file), '/Users/zhouzhenyi/miniconda3/envs/torch/lib/libcblas.3.dylib' (no such file), '/Users/zhouzhenyi/miniconda3/envs/torch/lib/python3.9/site-packages/numpy/core/../../../../libcblas.3.dylib' (no such file), '/Users/zhouzhenyi/miniconda3/envs/torch/lib/libcblas.3.dylib' (no such file), '/Users/zhouzhenyi/miniconda3/envs/torch/lib/libcblas.3.dylib' (no such file), '/Users/zhouzhenyi/miniconda3/envs/torch/lib/python3.9/site-packages/numpy/core/../../../../libcblas.3.dylib' (no such file), '/Users/zhouzhenyi/miniconda3/envs/torch/lib/libcblas.3.dylib' (no such file), '/Users/zhouzhenyi/miniconda3/envs/torch/bin/../lib/libcblas.3.dylib' (no such file), '/Users/zhouzhenyi/miniconda3/envs/torch/lib/libcblas.3.dylib' (no such file), '/Users/zhouzhenyi/miniconda3/envs/torch/bin/../lib/libcblas.3.dylib' (no such file), '/usr/local/lib/libcblas.3.dylib' (no such file), '/usr/lib/libcblas.3.dylib' (no such file)\n"
     ]
    }
   ],
   "source": [
    "from IPython import display\n",
    "def use_svg_display():\n",
    "    \"\"\"使用svg格式在Jupyter中显示绘图\n",
    "\n",
    "    Defined in :numref:`sec_calculus`\"\"\"\n",
    "    display.set_matplotlib_formats('svg')"
   ]
  },
  {
   "cell_type": "markdown",
   "metadata": {},
   "source": [
    "关于 `sys.modules[__name__]` 的详解"
   ]
  },
  {
   "cell_type": "code",
   "execution_count": null,
   "metadata": {},
   "outputs": [],
   "source": [
    "# sys.modules 以字典形式储存程序的所有模块，__name__当前模块\n",
    "print(__name__)\n",
    "print(sys.modules['sys'])\n",
    "print(sys.modules['__main__'])\n",
    "print(sys.modules[__name__])\n",
    "# print(sys.modules)\n"
   ]
  },
  {
   "cell_type": "code",
   "execution_count": null,
   "metadata": {},
   "outputs": [],
   "source": [
    "import sys\n",
    "d2l = sys.modules[__name__]\n",
    "from matplotlib import pyplot as plt\n",
    "def set_figsize(figsize=(3.5, 2.5)):\n",
    "    \"\"\"设置matplotlib的图表大小\n",
    "\n",
    "    Defined in :numref:`sec_calculus`\"\"\"\n",
    "    use_svg_display()\n",
    "    d2l.plt.rcParams['figure.figsize'] = figsize"
   ]
  },
  {
   "cell_type": "code",
   "execution_count": null,
   "metadata": {},
   "outputs": [],
   "source": [
    "def set_axes(axes, xlabel, ylabel, xlim, ylim, xscale, yscale, legend):\n",
    "    \"\"\"设置matplotlib的轴\n",
    "\n",
    "    Defined in :numref:`sec_calculus`\"\"\"\n",
    "    axes.set_xlabel(xlabel)\n",
    "    axes.set_ylabel(ylabel)\n",
    "    axes.set_xscale(xscale)\n",
    "    axes.set_yscale(yscale)\n",
    "    axes.set_xlim(xlim)\n",
    "    axes.set_ylim(ylim)\n",
    "    if legend:\n",
    "        axes.legend(legend)\n",
    "    axes.grid()"
   ]
  },
  {
   "cell_type": "code",
   "execution_count": null,
   "metadata": {},
   "outputs": [],
   "source": [
    "def plot(X, Y=None, xlabel=None, ylabel=None, legend=None, xlim=None,\n",
    "         ylim=None, xscale='linear', yscale='linear',\n",
    "         fmts=('-', 'm--', 'g-.', 'r:'), figsize=(3.5, 2.5), axes=None):\n",
    "    \"\"\"绘制数据点\n",
    "\n",
    "    Defined in :numref:`sec_calculus`\"\"\"\n",
    "    if legend is None:\n",
    "        legend = []\n",
    "\n",
    "    set_figsize(figsize)\n",
    "    axes = axes if axes else plt.gca()\n",
    "\n",
    "    # 如果X有一个轴，输出True\n",
    "    def has_one_axis(X):\n",
    "        return (hasattr(X, \"ndim\") and X.ndim == 1 or isinstance(X, list)\n",
    "                and not hasattr(X[0], \"__len__\"))\n",
    "\n",
    "    if has_one_axis(X):\n",
    "        X = [X]\n",
    "    if Y is None:\n",
    "        X, Y = [[]] * len(X), X\n",
    "    elif has_one_axis(Y):\n",
    "        Y = [Y]\n",
    "    if len(X) != len(Y):\n",
    "        X = X * len(Y)\n",
    "    axes.cla()\n",
    "    for x, y, fmt in zip(X, Y, fmts):\n",
    "        if len(x):\n",
    "            axes.plot(x, y, fmt)\n",
    "        else:\n",
    "            axes.plot(y, fmt)\n",
    "    set_axes(axes, xlabel, ylabel, xlim, ylim, xscale, yscale, legend)"
   ]
  }
 ],
 "metadata": {
  "interpreter": {
   "hash": "52dd0c64a36d2af617eea8ef4f5ca4442281a5a123539daa9fa5ea89b340b808"
  },
  "kernelspec": {
   "display_name": "Python 3.9.0 ('torch')",
   "language": "python",
   "name": "python3"
  },
  "language_info": {
   "codemirror_mode": {
    "name": "ipython",
    "version": 3
   },
   "file_extension": ".py",
   "mimetype": "text/x-python",
   "name": "python",
   "nbconvert_exporter": "python",
   "pygments_lexer": "ipython3",
   "version": "3.9.0"
  },
  "orig_nbformat": 4
 },
 "nbformat": 4,
 "nbformat_minor": 2
}

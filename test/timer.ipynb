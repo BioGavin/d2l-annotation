{
 "cells": [
  {
   "cell_type": "code",
   "execution_count": 1,
   "metadata": {},
   "outputs": [],
   "source": [
    "import time\n",
    "import numpy as np\n",
    "class Timer:\n",
    "    \"\"\"记录多次运行时间\"\"\"\n",
    "    def __init__(self):\n",
    "        \"\"\"Defined in :numref:`subsec_linear_model`\"\"\"\n",
    "        self.times = []\n",
    "        self.start()\n",
    "\n",
    "    def start(self):\n",
    "        \"\"\"启动计时器\"\"\"\n",
    "        self.tik = time.time()\n",
    "\n",
    "    def stop(self):\n",
    "        \"\"\"停止计时器并将时间记录在列表中\"\"\"\n",
    "        self.times.append(time.time() - self.tik)\n",
    "        return self.times[-1]\n",
    "\n",
    "    def avg(self):\n",
    "        \"\"\"返回平均时间\"\"\"\n",
    "        return sum(self.times) / len(self.times)\n",
    "\n",
    "    def sum(self):\n",
    "        \"\"\"返回时间总和\"\"\"\n",
    "        return sum(self.times)\n",
    "\n",
    "    def cumsum(self):\n",
    "        \"\"\"返回累计时间\"\"\"\n",
    "        return np.array(self.times).cumsum().tolist()"
   ]
  },
  {
   "cell_type": "code",
   "execution_count": 6,
   "metadata": {},
   "outputs": [
    {
     "name": "stdout",
     "output_type": "stream",
     "text": [
      "times: [1.0052416324615479, 3.01019287109375]\n",
      "avg_time: 2.00772 sec\n",
      "sum_time: 4.01543 sec\n",
      "cumsum_time: [1.0052416324615479, 4.015434503555298]\n"
     ]
    }
   ],
   "source": [
    "timer = Timer() # 启动计时器\n",
    "runtime1 = time.sleep(1)\n",
    "t1 = timer.stop()\n",
    "runtime1 = time.sleep(2)\n",
    "t2 = timer.stop()\n",
    "print(f'times: {timer.times}')\n",
    "print(f'avg_time: {timer.avg():.5f} sec')\n",
    "print(f'sum_time: {timer.sum():.5f} sec')\n",
    "print(f'cumsum_time: {timer.cumsum()}')"
   ]
  }
 ],
 "metadata": {
  "interpreter": {
   "hash": "9738c2e79c81a124ab684bc04b5c3495a0b190f151faabbb78e168850934a4e7"
  },
  "kernelspec": {
   "display_name": "Python 3.8.11 ('base')",
   "language": "python",
   "name": "python3"
  },
  "language_info": {
   "codemirror_mode": {
    "name": "ipython",
    "version": 3
   },
   "file_extension": ".py",
   "mimetype": "text/x-python",
   "name": "python",
   "nbconvert_exporter": "python",
   "pygments_lexer": "ipython3",
   "version": "3.9.0"
  },
  "orig_nbformat": 4
 },
 "nbformat": 4,
 "nbformat_minor": 2
}
